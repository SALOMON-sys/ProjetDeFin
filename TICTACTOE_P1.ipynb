{
 "cells": [
  {
   "cell_type": "code",
   "execution_count": 6,
   "id": "f7595261-ee1b-432f-9e9b-b42e8c55c23e",
   "metadata": {},
   "outputs": [],
   "source": [
    "# Étape 1 : Initialisation\n",
    "\n",
    "import tkinter as tk\n",
    "from tkinter import messagebox\n",
    "\n",
    "root = tk.Tk()\n",
    "root.title(\"TIC-TAC-TOE\")\n",
    "\n",
    "chiffres = [1, 2, 3, 4, 5, 6, 7, 8, 9]  \n",
    "mark = ''                             \n",
    "count = 0                               \n",
    "panneaux = [\"panneau\"] + [\"\" for _ in range(9)] \n",
    "\n",
    "# Lancer l'application\n",
    "root.mainloop()"
   ]
  }
 ],
 "metadata": {
  "kernelspec": {
   "display_name": "Python 3 (ipykernel)",
   "language": "python",
   "name": "python3"
  },
  "language_info": {
   "codemirror_mode": {
    "name": "ipython",
    "version": 3
   },
   "file_extension": ".py",
   "mimetype": "text/x-python",
   "name": "python",
   "nbconvert_exporter": "python",
   "pygments_lexer": "ipython3",
   "version": "3.13.3"
  }
 },
 "nbformat": 4,
 "nbformat_minor": 5
}
